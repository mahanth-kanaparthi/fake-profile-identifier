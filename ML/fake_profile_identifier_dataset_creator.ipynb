{
 "cells": [
  {
   "cell_type": "code",
   "execution_count": 12,
   "id": "4307f28d",
   "metadata": {},
   "outputs": [],
   "source": [
    "# Import libraries\n",
    "import pandas as pd\n",
    "import numpy as np\n",
    "from sklearn.model_selection import train_test_split\n",
    "from sklearn.preprocessing import StandardScaler\n",
    "from sklearn.metrics import classification_report, roc_auc_score, accuracy_score\n",
    "import xgboost as xgb"
   ]
  },
  {
   "cell_type": "code",
   "execution_count": 13,
   "id": "ae60cfbf",
   "metadata": {},
   "outputs": [],
   "source": [
    "# Load dataset\n",
    "#df = pd.read_csv('robust_fake_profile_data.csv')\n",
    "df = pd.read_csv('realistic_fake_profile_data.csv')"
   ]
  },
  {
   "cell_type": "code",
   "execution_count": 14,
   "id": "1cea201f",
   "metadata": {},
   "outputs": [],
   "source": [
    "\n",
    "# Split features and labels\n",
    "X = df.drop('label', axis=1)\n",
    "y = df['label']"
   ]
  },
  {
   "cell_type": "code",
   "execution_count": 15,
   "id": "438acf6f",
   "metadata": {},
   "outputs": [],
   "source": [
    "# Train-test split\n",
    "X_train, X_test, y_train, y_test = train_test_split(X, y, test_size=0.2, random_state=42)\n"
   ]
  },
  {
   "cell_type": "code",
   "execution_count": 16,
   "id": "639d9668",
   "metadata": {},
   "outputs": [],
   "source": [
    "# Scale data\n",
    "scaler = StandardScaler()\n",
    "X_train_scaled = scaler.fit_transform(X_train)\n",
    "X_test_scaled = scaler.transform(X_test)"
   ]
  },
  {
   "cell_type": "code",
   "execution_count": 17,
   "id": "f735e2ce",
   "metadata": {},
   "outputs": [],
   "source": [
    "\n",
    "# Convert to DMatrix\n",
    "dtrain = xgb.DMatrix(X_train_scaled, label=y_train)\n",
    "dtest = xgb.DMatrix(X_test_scaled, label=y_test)"
   ]
  },
  {
   "cell_type": "code",
   "execution_count": 18,
   "id": "2f1af176",
   "metadata": {},
   "outputs": [],
   "source": [
    "# Define XGBoost parameters\n",
    "params = {\n",
    "    'objective': 'binary:logistic',\n",
    "    'eval_metric': 'logloss',\n",
    "    'learning_rate': 0.05,\n",
    "    'max_depth': 6,\n",
    "    'colsample_bytree': 0.8,\n",
    "    'seed': 42\n",
    "}"
   ]
  },
  {
   "cell_type": "code",
   "execution_count": 19,
   "id": "15bfff06",
   "metadata": {},
   "outputs": [],
   "source": [
    "# Define watchlist for early stopping\n",
    "eval_set = [(dtrain, 'train'), (dtest, 'eval')]"
   ]
  },
  {
   "cell_type": "code",
   "execution_count": 20,
   "id": "a44fb394",
   "metadata": {},
   "outputs": [
    {
     "name": "stdout",
     "output_type": "stream",
     "text": [
      "[0]\ttrain-logloss:0.64670\teval-logloss:0.64825\n",
      "[10]\ttrain-logloss:0.38651\teval-logloss:0.40216\n",
      "[20]\ttrain-logloss:0.24651\teval-logloss:0.26858\n",
      "[30]\ttrain-logloss:0.16984\teval-logloss:0.19621\n",
      "[40]\ttrain-logloss:0.12046\teval-logloss:0.14825\n",
      "[50]\ttrain-logloss:0.08940\teval-logloss:0.11879\n",
      "[60]\ttrain-logloss:0.06779\teval-logloss:0.09733\n",
      "[70]\ttrain-logloss:0.05415\teval-logloss:0.08475\n",
      "[80]\ttrain-logloss:0.04160\teval-logloss:0.07082\n",
      "[90]\ttrain-logloss:0.03205\teval-logloss:0.05953\n",
      "[100]\ttrain-logloss:0.02682\teval-logloss:0.05327\n",
      "[110]\ttrain-logloss:0.02260\teval-logloss:0.04740\n",
      "[120]\ttrain-logloss:0.01927\teval-logloss:0.04358\n",
      "[130]\ttrain-logloss:0.01713\teval-logloss:0.04146\n",
      "[140]\ttrain-logloss:0.01529\teval-logloss:0.03922\n",
      "[150]\ttrain-logloss:0.01359\teval-logloss:0.03726\n",
      "[160]\ttrain-logloss:0.01243\teval-logloss:0.03623\n",
      "[170]\ttrain-logloss:0.01140\teval-logloss:0.03539\n",
      "[180]\ttrain-logloss:0.01062\teval-logloss:0.03519\n",
      "[190]\ttrain-logloss:0.01002\teval-logloss:0.03436\n",
      "[200]\ttrain-logloss:0.00947\teval-logloss:0.03405\n",
      "[210]\ttrain-logloss:0.00892\teval-logloss:0.03353\n",
      "[220]\ttrain-logloss:0.00843\teval-logloss:0.03255\n",
      "[230]\ttrain-logloss:0.00801\teval-logloss:0.03196\n",
      "[240]\ttrain-logloss:0.00767\teval-logloss:0.03116\n",
      "[250]\ttrain-logloss:0.00732\teval-logloss:0.03059\n",
      "[260]\ttrain-logloss:0.00708\teval-logloss:0.03024\n",
      "[270]\ttrain-logloss:0.00688\teval-logloss:0.02979\n",
      "[280]\ttrain-logloss:0.00671\teval-logloss:0.02948\n",
      "[290]\ttrain-logloss:0.00658\teval-logloss:0.02924\n",
      "[300]\ttrain-logloss:0.00644\teval-logloss:0.02892\n",
      "[310]\ttrain-logloss:0.00630\teval-logloss:0.02865\n",
      "[320]\ttrain-logloss:0.00619\teval-logloss:0.02829\n",
      "[330]\ttrain-logloss:0.00605\teval-logloss:0.02808\n",
      "[340]\ttrain-logloss:0.00595\teval-logloss:0.02784\n",
      "[350]\ttrain-logloss:0.00584\teval-logloss:0.02770\n",
      "[360]\ttrain-logloss:0.00574\teval-logloss:0.02748\n",
      "[370]\ttrain-logloss:0.00564\teval-logloss:0.02721\n",
      "[380]\ttrain-logloss:0.00555\teval-logloss:0.02700\n",
      "[390]\ttrain-logloss:0.00548\teval-logloss:0.02693\n",
      "[400]\ttrain-logloss:0.00541\teval-logloss:0.02673\n",
      "[410]\ttrain-logloss:0.00534\teval-logloss:0.02665\n",
      "[420]\ttrain-logloss:0.00527\teval-logloss:0.02663\n",
      "[430]\ttrain-logloss:0.00522\teval-logloss:0.02657\n",
      "[440]\ttrain-logloss:0.00516\teval-logloss:0.02638\n",
      "[450]\ttrain-logloss:0.00512\teval-logloss:0.02633\n",
      "[460]\ttrain-logloss:0.00505\teval-logloss:0.02618\n",
      "[470]\ttrain-logloss:0.00499\teval-logloss:0.02604\n",
      "[480]\ttrain-logloss:0.00493\teval-logloss:0.02597\n",
      "[490]\ttrain-logloss:0.00488\teval-logloss:0.02589\n",
      "[499]\ttrain-logloss:0.00483\teval-logloss:0.02583\n"
     ]
    }
   ],
   "source": [
    "# Train model with early stopping\n",
    "model = xgb.train(\n",
    "    params,\n",
    "    dtrain,\n",
    "    num_boost_round=500,\n",
    "    evals=eval_set,\n",
    "    early_stopping_rounds=20,\n",
    "    verbose_eval=10\n",
    ")"
   ]
  },
  {
   "cell_type": "code",
   "execution_count": 21,
   "id": "123c86e7",
   "metadata": {},
   "outputs": [],
   "source": [
    "# Predict on test set\n",
    "y_pred_prob = model.predict(dtest)\n",
    "y_pred = (y_pred_prob > 0.5).astype(int)"
   ]
  },
  {
   "cell_type": "code",
   "execution_count": 22,
   "id": "0122b366",
   "metadata": {},
   "outputs": [
    {
     "name": "stdout",
     "output_type": "stream",
     "text": [
      "Accuracy: 0.99\n",
      "\n",
      "Classification Report:\n",
      "               precision    recall  f1-score   support\n",
      "\n",
      "           0       1.00      0.99      0.99       171\n",
      "           1       0.94      1.00      0.97        29\n",
      "\n",
      "    accuracy                           0.99       200\n",
      "   macro avg       0.97      0.99      0.98       200\n",
      "weighted avg       0.99      0.99      0.99       200\n",
      "\n",
      "ROC AUC Score: 0.9997983464408148\n"
     ]
    }
   ],
   "source": [
    "# Evaluate model\n",
    "print(\"Accuracy:\", accuracy_score(y_test, y_pred))\n",
    "print(\"\\nClassification Report:\\n\", classification_report(y_test, y_pred))\n",
    "print(\"ROC AUC Score:\", roc_auc_score(y_test, y_pred_prob))"
   ]
  },
  {
   "cell_type": "code",
   "execution_count": 24,
   "id": "9438d710",
   "metadata": {},
   "outputs": [
    {
     "data": {
      "text/plain": [
       "xgboost.core.Booster"
      ]
     },
     "execution_count": 24,
     "metadata": {},
     "output_type": "execute_result"
    }
   ],
   "source": [
    "type(model)\n"
   ]
  },
  {
   "cell_type": "code",
   "execution_count": 25,
   "id": "68066247",
   "metadata": {},
   "outputs": [],
   "source": [
    "import xgboost as xgb\n",
    "from sklearn.metrics import roc_auc_score, RocCurveDisplay, confusion_matrix, ConfusionMatrixDisplay\n",
    "import matplotlib.pyplot as plt"
   ]
  },
  {
   "cell_type": "code",
   "execution_count": 26,
   "id": "28e88c63",
   "metadata": {},
   "outputs": [],
   "source": [
    "\n",
    "# Prepare DMatrix for test set\n",
    "dtest = xgb.DMatrix(X_test_scaled)"
   ]
  },
  {
   "cell_type": "code",
   "execution_count": 27,
   "id": "a57f692d",
   "metadata": {},
   "outputs": [],
   "source": [
    "\n",
    "# Get probability predictions\n",
    "y_proba = model.predict(dtest)"
   ]
  },
  {
   "cell_type": "code",
   "execution_count": 28,
   "id": "849a5b60",
   "metadata": {},
   "outputs": [
    {
     "data": {
      "image/png": "[encoded data removed]",
      "text/plain": [
       "<Figure size 640x480 with 1 Axes>"
      ]
     },
     "metadata": {},
     "output_type": "display_data"
    }
   ],
   "source": [
    "# ROC Curve\n",
    "RocCurveDisplay.from_predictions(y_test, y_proba)\n",
    "plt.title('ROC Curve')\n",
    "plt.show()"
   ]
  },
  {
   "cell_type": "code",
   "execution_count": 29,
   "id": "a83e9954",
   "metadata": {},
   "outputs": [],
   "source": [
    "# Convert probabilities to binary predictions\n",
    "y_pred = (y_proba >= 0.5).astype(int)"
   ]
  },
  {
   "cell_type": "code",
   "execution_count": 30,
   "id": "d9119495",
   "metadata": {},
   "outputs": [
    {
     "data": {
      "image/png": "[encoded data removed]",
      "text/plain": [
       "<Figure size 640x480 with 2 Axes>"
      ]
     },
     "metadata": {},
     "output_type": "display_data"
    }
   ],
   "source": [
    "# Confusion Matrix\n",
    "cm = confusion_matrix(y_test, y_pred)\n",
    "ConfusionMatrixDisplay(confusion_matrix=cm).plot(cmap='Blues')\n",
    "plt.title('Confusion Matrix')\n",
    "plt.show()"
   ]
  },
  {
   "cell_type": "code",
   "execution_count": 32,
   "id": "3d950bbf",
   "metadata": {},
   "outputs": [],
   "source": [
    "# Save model\n",
    "model.save_model(\"model.json\")\n"
   ]
  },
  {
   "cell_type": "code",
   "execution_count": 34,
   "id": "c03d9495",
   "metadata": {},
   "outputs": [
    {
     "data": {
      "text/plain": [
       "['scaler.pkl']"
      ]
     },
     "execution_count": 34,
     "metadata": {},
     "output_type": "execute_result"
    }
   ],
   "source": [
    "import joblib\n",
    "joblib.dump(scaler, \"scaler.pkl\")"
   ]
  },
  {
   "cell_type": "code",
   "execution_count": null,
   "id": "826a43fc",
   "metadata": {},
   "outputs": [],
   "source": []
  }
 ],
 "metadata": {
  "kernelspec": {
   "display_name": "Python 3",
   "language": "python",
   "name": "python3"
  },
  "language_info": {
   "codemirror_mode": {
    "name": "ipython",
    "version": 3
   },
   "file_extension": ".py",
   "mimetype": "text/x-python",
   "name": "python",
   "nbconvert_exporter": "python",
   "pygments_lexer": "ipython3",
   "version": "3.10.9"
  }
 },
 "nbformat": 4,
 "nbformat_minor": 5
}
